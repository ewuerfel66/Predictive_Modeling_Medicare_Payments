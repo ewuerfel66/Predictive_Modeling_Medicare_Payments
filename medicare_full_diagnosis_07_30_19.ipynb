{
 "cells": [
  {
   "cell_type": "code",
   "execution_count": 45,
   "metadata": {},
   "outputs": [],
   "source": [
    "import pandas as pd\n",
    "import numpy as np\n",
    "import matplotlib.pyplot as plt\n",
    "\n",
    "from category_encoders import OrdinalEncoder\n",
    "from sklearn.pipeline import make_pipeline\n",
    "from sklearn.metrics import mean_squared_error\n",
    "from sklearn.metrics import mean_absolute_error\n",
    "\n",
    "from sklearn.ensemble import RandomForestRegressor\n",
    "from sklearn.impute import SimpleImputer\n",
    "\n",
    "from xgboost import XGBRegressor"
   ]
  },
  {
   "cell_type": "markdown",
   "metadata": {},
   "source": [
    "# Data Cleaning"
   ]
  },
  {
   "cell_type": "code",
   "execution_count": 2,
   "metadata": {},
   "outputs": [],
   "source": [
    "# # unzip files\n",
    "# !unzip Other/Inpatient_Data_2011_CSV.zip\n",
    "# !unzip Other/Inpatient_Data_2012_CSV.zip\n",
    "# !unzip Other/Inpatient_Data_2013_CSV.zip\n",
    "# !unzip Other/Inpatient_Data_2014_CSV.zip\n",
    "# !unzip Other/Inpatient_Data_2015_CSV.zip\n",
    "# !unzip Other/Inpatient_Data_2016_CSV.zip"
   ]
  },
  {
   "cell_type": "code",
   "execution_count": 3,
   "metadata": {},
   "outputs": [
    {
     "name": "stderr",
     "output_type": "stream",
     "text": [
      "/home/eric/anaconda3/lib/python3.7/site-packages/IPython/core/interactiveshell.py:3049: DtypeWarning: Columns (8) have mixed types. Specify dtype option on import or set low_memory=False.\n",
      "  interactivity=interactivity, compiler=compiler, result=result)\n"
     ]
    }
   ],
   "source": [
    "# load data into pandas\n",
    "top_2011 = pd.read_csv('Data/Medicare_Provider_Charge_Inpatient_DRG100_FY2011.csv')\n",
    "top_2012 = pd.read_csv('Data/Medicare_Provider_Charge_Inpatient_DRG100_FY2012.csv')\n",
    "top_2013 = pd.read_csv('Data/Medicare_Provider_Charge_Inpatient_DRG100_FY2013.csv')\n",
    "og_2014 = pd.read_csv('Data/Medicare_Provider_Charge_Inpatient_DRGALL_FY2014.csv')\n",
    "og_2015 = pd.read_csv('Data/Medicare_Provider_Charge_Inpatient_DRGALL_FY2015.csv')\n",
    "og_2016 = pd.read_csv('Data/Medicare_Provider_Charge_Inpatient_DRGALL_FY2016.csv')"
   ]
  },
  {
   "cell_type": "code",
   "execution_count": 4,
   "metadata": {},
   "outputs": [],
   "source": [
    "# define top100 list\n",
    "top100 = top_2011['DRG Definition'].unique().tolist()"
   ]
  },
  {
   "cell_type": "code",
   "execution_count": 5,
   "metadata": {},
   "outputs": [],
   "source": [
    "# get diagnoses from top 100\n",
    "top_2014 = og_2014[og_2014['DRG Definition'].isin(top100)]\n",
    "top_2015 = og_2015[og_2015['DRG Definition'].isin(top100)]\n",
    "top_2016 = og_2016[og_2016['DRG Definition'].isin(top100)]"
   ]
  },
  {
   "cell_type": "code",
   "execution_count": 6,
   "metadata": {
    "scrolled": true
   },
   "outputs": [
    {
     "name": "stderr",
     "output_type": "stream",
     "text": [
      "/home/eric/anaconda3/lib/python3.7/site-packages/ipykernel_launcher.py:5: SettingWithCopyWarning: \n",
      "A value is trying to be set on a copy of a slice from a DataFrame.\n",
      "Try using .loc[row_indexer,col_indexer] = value instead\n",
      "\n",
      "See the caveats in the documentation: http://pandas.pydata.org/pandas-docs/stable/indexing.html#indexing-view-versus-copy\n",
      "  \"\"\"\n",
      "/home/eric/anaconda3/lib/python3.7/site-packages/ipykernel_launcher.py:6: SettingWithCopyWarning: \n",
      "A value is trying to be set on a copy of a slice from a DataFrame.\n",
      "Try using .loc[row_indexer,col_indexer] = value instead\n",
      "\n",
      "See the caveats in the documentation: http://pandas.pydata.org/pandas-docs/stable/indexing.html#indexing-view-versus-copy\n",
      "  \n",
      "/home/eric/anaconda3/lib/python3.7/site-packages/ipykernel_launcher.py:7: SettingWithCopyWarning: \n",
      "A value is trying to be set on a copy of a slice from a DataFrame.\n",
      "Try using .loc[row_indexer,col_indexer] = value instead\n",
      "\n",
      "See the caveats in the documentation: http://pandas.pydata.org/pandas-docs/stable/indexing.html#indexing-view-versus-copy\n",
      "  import sys\n"
     ]
    }
   ],
   "source": [
    "# add year feature\n",
    "top_2011['year'] = [2011] * top_2011.shape[0]\n",
    "top_2012['year'] = [2012] * top_2012.shape[0]\n",
    "top_2013['year'] = [2013] * top_2013.shape[0]\n",
    "top_2014['year'] = [2014] * top_2014.shape[0]\n",
    "top_2015['year'] = [2015] * top_2015.shape[0]\n",
    "top_2016['year'] = [2016] * top_2016.shape[0]"
   ]
  },
  {
   "cell_type": "code",
   "execution_count": 7,
   "metadata": {},
   "outputs": [
    {
     "name": "stderr",
     "output_type": "stream",
     "text": [
      "/home/eric/anaconda3/lib/python3.7/site-packages/ipykernel_launcher.py:5: SettingWithCopyWarning: \n",
      "A value is trying to be set on a copy of a slice from a DataFrame.\n",
      "Try using .loc[row_indexer,col_indexer] = value instead\n",
      "\n",
      "See the caveats in the documentation: http://pandas.pydata.org/pandas-docs/stable/indexing.html#indexing-view-versus-copy\n",
      "  \"\"\"\n",
      "/home/eric/anaconda3/lib/python3.7/site-packages/ipykernel_launcher.py:6: SettingWithCopyWarning: \n",
      "A value is trying to be set on a copy of a slice from a DataFrame.\n",
      "Try using .loc[row_indexer,col_indexer] = value instead\n",
      "\n",
      "See the caveats in the documentation: http://pandas.pydata.org/pandas-docs/stable/indexing.html#indexing-view-versus-copy\n",
      "  \n"
     ]
    }
   ],
   "source": [
    "# 2016 has a '$' in front of `Average Total Payments`\n",
    "def strip_dollar(entry):\n",
    "    return float((entry.strip('$')).replace(',', ''))\n",
    "\n",
    "top_2016['Average Total Payments'] = top_2016['Average Total Payments'].apply(strip_dollar)\n",
    "top_2016['Average Medicare Payments'] = top_2016['Average Medicare Payments'].apply(strip_dollar)"
   ]
  },
  {
   "cell_type": "code",
   "execution_count": 8,
   "metadata": {},
   "outputs": [],
   "source": [
    "# concatenate dataframes\n",
    "dataframes = [top_2011, top_2012, top_2013, top_2014, top_2015, top_2016]\n",
    "top100 = pd.concat(dataframes)"
   ]
  },
  {
   "cell_type": "code",
   "execution_count": 9,
   "metadata": {},
   "outputs": [],
   "source": [
    "# change name\n",
    "top100['diagnosis'] = top100['DRG Definition']\n",
    "top100 = top100.drop(columns='DRG Definition')"
   ]
  },
  {
   "cell_type": "code",
   "execution_count": 10,
   "metadata": {},
   "outputs": [],
   "source": [
    "# drop columns\n",
    "top100_clean = top100.drop(columns=['Provider Id',\n",
    "                     'Provider Name',\n",
    "                     'Provider Street Address',\n",
    "                     'Provider City',\n",
    "                     'Provider Zip Code',\n",
    "                     'Hospital Referral Region (HRR) Description',\n",
    "                     'Total Discharges',\n",
    "                     'Average Covered Charges'])"
   ]
  },
  {
   "cell_type": "code",
   "execution_count": 11,
   "metadata": {},
   "outputs": [],
   "source": [
    "# create out-of-pocket payment feature\n",
    "top100_clean['cost'] = top100_clean['Average Total Payments'] - top100_clean['Average Medicare Payments']\n",
    "\n",
    "# now drop other payment features\n",
    "top100 = top100_clean.drop(columns=['Average Total Payments',\n",
    "                                    'Average Medicare Payments'])"
   ]
  },
  {
   "cell_type": "code",
   "execution_count": 12,
   "metadata": {
    "scrolled": true
   },
   "outputs": [],
   "source": [
    "# get rid of beginning\n",
    "def strip_beginning(entry):\n",
    "    return str(entry)[6:]\n",
    "\n",
    "top100['diagnosis'] = top100['diagnosis'].apply(strip_beginning)"
   ]
  },
  {
   "cell_type": "code",
   "execution_count": 13,
   "metadata": {},
   "outputs": [],
   "source": [
    "# get rid of endings\n",
    "endings = [' W/O CC/MCC',\n",
    "           ' W/O MCC',\n",
    "           ' W MCC',\n",
    "           ' W CC',\n",
    "           ' W/O CC',\n",
    "           ' W CC/MCC']\n",
    "\n",
    "def strip_endings(entry):\n",
    "    for ending in endings:\n",
    "        if entry.endswith(ending):\n",
    "            return entry.replace(ending, '')\n",
    "            \n",
    "top100['diagnosis'] = top100['diagnosis'].apply(strip_endings)"
   ]
  },
  {
   "cell_type": "code",
   "execution_count": 14,
   "metadata": {},
   "outputs": [],
   "source": [
    "# categorize diagnoses\n",
    "diagnoses = top100['diagnosis'].unique().tolist()\n",
    "\n",
    "# neuro\n",
    "neuro = diagnoses[:3] + diagnoses[4:6]\n",
    "\n",
    "# respiratory\n",
    "respiratory = diagnoses[6:11]\n",
    "\n",
    "# circulatory\n",
    "circulatory = diagnoses[11:25]\n",
    "\n",
    "# digestive\n",
    "digestive = diagnoses[25:33]\n",
    "\n",
    "# orthopedic\n",
    "orthopedic = diagnoses[33:41] + diagnoses[53:]\n",
    "\n",
    "# PCP\n",
    "pcp = diagnoses[41:44]\n",
    "\n",
    "# nephrology\n",
    "nephrology = diagnoses[44:47]\n",
    "\n",
    "# other\n",
    "other = diagnoses[47:53] + diagnoses[3:4]"
   ]
  },
  {
   "cell_type": "code",
   "execution_count": 15,
   "metadata": {},
   "outputs": [],
   "source": [
    "def categorize(diagnosis):\n",
    "    if diagnosis in neuro:\n",
    "        return 'Neurological'\n",
    "    elif diagnosis in respiratory:\n",
    "        return 'Respiratory'\n",
    "    elif diagnosis in circulatory:\n",
    "        return 'Circulatory'\n",
    "    elif diagnosis in digestive:\n",
    "        return 'Digestive'\n",
    "    elif diagnosis in orthopedic:\n",
    "        return 'Orthopedic'\n",
    "    elif diagnosis in pcp:\n",
    "        return 'PCP'\n",
    "    elif diagnosis in nephrology:\n",
    "        return 'Nephrology'\n",
    "    elif diagnosis in other:\n",
    "        return 'Other'\n",
    "    else:\n",
    "        return 'Other'"
   ]
  },
  {
   "cell_type": "code",
   "execution_count": 16,
   "metadata": {},
   "outputs": [],
   "source": [
    "# categorize diagnoses\n",
    "# top100['diagnosis'] = top100['diagnosis'].apply(categorize)"
   ]
  },
  {
   "cell_type": "markdown",
   "metadata": {},
   "source": [
    "# Encode & Impute"
   ]
  },
  {
   "cell_type": "code",
   "execution_count": 17,
   "metadata": {},
   "outputs": [],
   "source": [
    "# instantiate encoder\n",
    "encoder = OrdinalEncoder()"
   ]
  },
  {
   "cell_type": "code",
   "execution_count": 18,
   "metadata": {},
   "outputs": [],
   "source": [
    "encoded = encoder.fit_transform(top100)"
   ]
  },
  {
   "cell_type": "code",
   "execution_count": 19,
   "metadata": {},
   "outputs": [],
   "source": [
    "# instantiate imputer\n",
    "imputer = SimpleImputer(np.nan, strategy='median')"
   ]
  },
  {
   "cell_type": "code",
   "execution_count": 20,
   "metadata": {},
   "outputs": [],
   "source": [
    "imputed = pd.DataFrame(imputer.fit_transform(encoded), columns = encoded.columns.values)"
   ]
  },
  {
   "cell_type": "code",
   "execution_count": 21,
   "metadata": {
    "scrolled": true
   },
   "outputs": [
    {
     "data": {
      "text/html": [
       "<div>\n",
       "<style scoped>\n",
       "    .dataframe tbody tr th:only-of-type {\n",
       "        vertical-align: middle;\n",
       "    }\n",
       "\n",
       "    .dataframe tbody tr th {\n",
       "        vertical-align: top;\n",
       "    }\n",
       "\n",
       "    .dataframe thead th {\n",
       "        text-align: right;\n",
       "    }\n",
       "</style>\n",
       "<table border=\"1\" class=\"dataframe\">\n",
       "  <thead>\n",
       "    <tr style=\"text-align: right;\">\n",
       "      <th></th>\n",
       "      <th>Provider State</th>\n",
       "      <th>year</th>\n",
       "      <th>diagnosis</th>\n",
       "      <th>cost</th>\n",
       "    </tr>\n",
       "  </thead>\n",
       "  <tbody>\n",
       "    <tr>\n",
       "      <th>0</th>\n",
       "      <td>1.0</td>\n",
       "      <td>2011.0</td>\n",
       "      <td>1.0</td>\n",
       "      <td>1013.505494</td>\n",
       "    </tr>\n",
       "    <tr>\n",
       "      <th>1</th>\n",
       "      <td>1.0</td>\n",
       "      <td>2011.0</td>\n",
       "      <td>1.0</td>\n",
       "      <td>810.857143</td>\n",
       "    </tr>\n",
       "    <tr>\n",
       "      <th>2</th>\n",
       "      <td>1.0</td>\n",
       "      <td>2011.0</td>\n",
       "      <td>1.0</td>\n",
       "      <td>981.166666</td>\n",
       "    </tr>\n",
       "    <tr>\n",
       "      <th>3</th>\n",
       "      <td>1.0</td>\n",
       "      <td>2011.0</td>\n",
       "      <td>1.0</td>\n",
       "      <td>1288.400000</td>\n",
       "    </tr>\n",
       "    <tr>\n",
       "      <th>4</th>\n",
       "      <td>1.0</td>\n",
       "      <td>2011.0</td>\n",
       "      <td>1.0</td>\n",
       "      <td>806.888889</td>\n",
       "    </tr>\n",
       "  </tbody>\n",
       "</table>\n",
       "</div>"
      ],
      "text/plain": [
       "   Provider State    year  diagnosis         cost\n",
       "0             1.0  2011.0        1.0  1013.505494\n",
       "1             1.0  2011.0        1.0   810.857143\n",
       "2             1.0  2011.0        1.0   981.166666\n",
       "3             1.0  2011.0        1.0  1288.400000\n",
       "4             1.0  2011.0        1.0   806.888889"
      ]
     },
     "execution_count": 21,
     "metadata": {},
     "output_type": "execute_result"
    }
   ],
   "source": [
    "imputed.head()"
   ]
  },
  {
   "cell_type": "code",
   "execution_count": 22,
   "metadata": {},
   "outputs": [],
   "source": [
    "# replace zeroes with ones\n",
    "def zero_to_one(entry):\n",
    "    if entry == 0:\n",
    "        return 1\n",
    "    else:\n",
    "        return entry"
   ]
  },
  {
   "cell_type": "code",
   "execution_count": 23,
   "metadata": {},
   "outputs": [],
   "source": [
    "# replace\n",
    "imputed['cost'] = imputed['cost'].apply(zero_to_one)"
   ]
  },
  {
   "cell_type": "markdown",
   "metadata": {},
   "source": [
    "# Train/Test Split"
   ]
  },
  {
   "cell_type": "code",
   "execution_count": 24,
   "metadata": {},
   "outputs": [],
   "source": [
    "# train/test split\n",
    "train = pd.concat([imputed[imputed['year'] == 2011],\n",
    "           imputed[imputed['year'] == 2012],\n",
    "           imputed[imputed['year'] == 2013],\n",
    "           imputed[imputed['year'] == 2014],\n",
    "           imputed[imputed['year'] == 2015]])\n",
    "\n",
    "test = imputed[imputed['year'] == 2016]"
   ]
  },
  {
   "cell_type": "code",
   "execution_count": 25,
   "metadata": {},
   "outputs": [],
   "source": [
    "# define target and features\n",
    "target = 'cost'\n",
    "features = ['diagnosis', 'Provider State']"
   ]
  },
  {
   "cell_type": "code",
   "execution_count": 26,
   "metadata": {},
   "outputs": [],
   "source": [
    "# X matrices\n",
    "X_train = train[features]\n",
    "X_test = test[features]\n",
    "\n",
    "# y vector\n",
    "y_train = train[target]\n",
    "y_test = test[target]"
   ]
  },
  {
   "cell_type": "markdown",
   "metadata": {},
   "source": [
    "# Baseline Model"
   ]
  },
  {
   "cell_type": "code",
   "execution_count": 27,
   "metadata": {},
   "outputs": [],
   "source": [
    "# define error metric\n",
    "def rmse(y_true, y_pred):\n",
    "    return np.sqrt(mean_squared_error(y_true, y_pred))"
   ]
  },
  {
   "cell_type": "code",
   "execution_count": 38,
   "metadata": {},
   "outputs": [
    {
     "name": "stdout",
     "output_type": "stream",
     "text": [
      "MAE: 698.7045627582952\n",
      "RMSE: 1546.465099275328\n"
     ]
    }
   ],
   "source": [
    "# find median cost\n",
    "median = train['cost'].median()\n",
    "\n",
    "# predictions\n",
    "y_pred = [median] * len(test)\n",
    "\n",
    "# accuracy\n",
    "print(\"MAE:\", mean_absolute_error(y_test, y_pred))\n",
    "print(\"RMSE:\", rmse(y_test, y_pred))"
   ]
  },
  {
   "cell_type": "markdown",
   "metadata": {},
   "source": [
    "# RF"
   ]
  },
  {
   "cell_type": "code",
   "execution_count": 39,
   "metadata": {},
   "outputs": [
    {
     "name": "stderr",
     "output_type": "stream",
     "text": [
      "/home/eric/anaconda3/lib/python3.7/site-packages/sklearn/ensemble/forest.py:246: FutureWarning: The default value of n_estimators will change from 10 in version 0.20 to 100 in 0.22.\n",
      "  \"10 in version 0.20 to 100 in 0.22.\", FutureWarning)\n"
     ]
    },
    {
     "name": "stdout",
     "output_type": "stream",
     "text": [
      "MAE: 636.6854783231073\n",
      "RMSE: 1335.4262660109007\n"
     ]
    }
   ],
   "source": [
    "# instantiate model\n",
    "rf = RandomForestRegressor()\n",
    "\n",
    "# fit model\n",
    "rf.fit(X_train, y_train)\n",
    "\n",
    "# predict\n",
    "y_pred = rf.predict(X_test)\n",
    "\n",
    "# accuracy\n",
    "print(\"MAE:\", mean_absolute_error(y_test, y_pred))\n",
    "print(\"RMSE:\", rmse(y_test, y_pred))"
   ]
  },
  {
   "cell_type": "code",
   "execution_count": 30,
   "metadata": {
    "scrolled": true
   },
   "outputs": [],
   "source": [
    "## Log transformed\n",
    "y_log_train = np.log(y_train)\n",
    "y_log_test = np.log(y_test)"
   ]
  },
  {
   "cell_type": "code",
   "execution_count": 40,
   "metadata": {
    "scrolled": true
   },
   "outputs": [
    {
     "name": "stderr",
     "output_type": "stream",
     "text": [
      "/home/eric/anaconda3/lib/python3.7/site-packages/sklearn/ensemble/forest.py:246: FutureWarning: The default value of n_estimators will change from 10 in version 0.20 to 100 in 0.22.\n",
      "  \"10 in version 0.20 to 100 in 0.22.\", FutureWarning)\n"
     ]
    },
    {
     "name": "stdout",
     "output_type": "stream",
     "text": [
      "MAE: 624.5603410846749\n",
      "RMSE: 1393.20395437988\n"
     ]
    }
   ],
   "source": [
    "# instantiate model\n",
    "rf = RandomForestRegressor()\n",
    "\n",
    "# fit model\n",
    "rf.fit(X_train, y_log_train)\n",
    "\n",
    "# predict\n",
    "y_pred = np.exp(rf.predict(X_test))\n",
    "\n",
    "# accuracy\n",
    "print(\"MAE:\", mean_absolute_error(y_test, y_pred))\n",
    "print(\"RMSE:\", rmse(y_test, y_pred))"
   ]
  },
  {
   "cell_type": "code",
   "execution_count": 41,
   "metadata": {},
   "outputs": [
    {
     "name": "stderr",
     "output_type": "stream",
     "text": [
      "/home/eric/anaconda3/lib/python3.7/site-packages/sklearn/ensemble/forest.py:246: FutureWarning: The default value of n_estimators will change from 10 in version 0.20 to 100 in 0.22.\n",
      "  \"10 in version 0.20 to 100 in 0.22.\", FutureWarning)\n"
     ]
    },
    {
     "name": "stdout",
     "output_type": "stream",
     "text": [
      "MAE: 636.7962652421903\n",
      "RMSE: 1335.472441039065\n"
     ]
    }
   ],
   "source": [
    "# instantiate model\n",
    "rf = RandomForestRegressor()\n",
    "\n",
    "# fit model\n",
    "rf.fit(X_train, y_train)\n",
    "\n",
    "# predict\n",
    "y_pred = rf.predict(X_test)\n",
    "\n",
    "# accuracy\n",
    "print(\"MAE:\", mean_absolute_error(y_test, y_pred))\n",
    "print(\"RMSE:\", rmse(y_test, y_pred))"
   ]
  },
  {
   "cell_type": "markdown",
   "metadata": {},
   "source": [
    "# XGBoost Regressor"
   ]
  },
  {
   "cell_type": "code",
   "execution_count": 42,
   "metadata": {},
   "outputs": [
    {
     "name": "stderr",
     "output_type": "stream",
     "text": [
      "/home/eric/anaconda3/lib/python3.7/site-packages/xgboost/core.py:587: FutureWarning: Series.base is deprecated and will be removed in a future version\n",
      "  if getattr(data, 'base', None) is not None and \\\n",
      "/home/eric/anaconda3/lib/python3.7/site-packages/xgboost/core.py:588: FutureWarning: Series.base is deprecated and will be removed in a future version\n",
      "  data.base is not None and isinstance(data, np.ndarray) \\\n"
     ]
    },
    {
     "name": "stdout",
     "output_type": "stream",
     "text": [
      "[17:12:21] WARNING: /workspace/src/objective/regression_obj.cu:152: reg:linear is now deprecated in favor of reg:squarederror.\n",
      "MAE: 641.9442020303599\n",
      "RMSE: 1346.138762531945\n"
     ]
    }
   ],
   "source": [
    "# Instantiate model\n",
    "rf = XGBRegressor()\n",
    "\n",
    "# fit model\n",
    "rf.fit(X_train, y_train)\n",
    "\n",
    "# predict\n",
    "y_pred = rf.predict(X_test)\n",
    "\n",
    "# accuracy\n",
    "print(\"MAE:\", mean_absolute_error(y_test, y_pred))\n",
    "print(\"RMSE:\", rmse(y_test, y_pred))"
   ]
  },
  {
   "cell_type": "code",
   "execution_count": 43,
   "metadata": {},
   "outputs": [],
   "source": [
    "import warnings\n",
    "warnings.simplefilter(action='ignore', category=FutureWarning)\n",
    "from scipy.stats import randint, uniform\n",
    "from sklearn.model_selection import RandomizedSearchCV"
   ]
  },
  {
   "cell_type": "code",
   "execution_count": 50,
   "metadata": {},
   "outputs": [
    {
     "name": "stdout",
     "output_type": "stream",
     "text": [
      "Fitting 5 folds for each of 15 candidates, totalling 75 fits\n"
     ]
    },
    {
     "name": "stderr",
     "output_type": "stream",
     "text": [
      "[Parallel(n_jobs=-1)]: Using backend LokyBackend with 6 concurrent workers.\n",
      "[Parallel(n_jobs=-1)]: Done   1 tasks      | elapsed:  1.3min\n",
      "[Parallel(n_jobs=-1)]: Done   6 tasks      | elapsed:  3.5min\n",
      "[Parallel(n_jobs=-1)]: Done  13 tasks      | elapsed:  7.5min\n",
      "[Parallel(n_jobs=-1)]: Done  20 tasks      | elapsed: 11.4min\n",
      "[Parallel(n_jobs=-1)]: Done  29 tasks      | elapsed: 18.2min\n",
      "[Parallel(n_jobs=-1)]: Done  38 tasks      | elapsed: 23.7min\n",
      "[Parallel(n_jobs=-1)]: Done  49 tasks      | elapsed: 31.0min\n",
      "[Parallel(n_jobs=-1)]: Done  60 tasks      | elapsed: 38.3min\n",
      "[Parallel(n_jobs=-1)]: Done  72 out of  75 | elapsed: 42.4min remaining:  1.8min\n",
      "[Parallel(n_jobs=-1)]: Done  75 out of  75 | elapsed: 43.1min finished\n"
     ]
    },
    {
     "name": "stdout",
     "output_type": "stream",
     "text": [
      "[18:18:38] WARNING: /workspace/src/objective/regression_obj.cu:152: reg:linear is now deprecated in favor of reg:squarederror.\n"
     ]
    }
   ],
   "source": [
    "pipeline = make_pipeline(\n",
    "    OrdinalEncoder(), \n",
    "    XGBRegressor(random_state=42)\n",
    ")\n",
    "\n",
    "param_distributions = {\n",
    "    'xgbregressor__n_estimators': randint(100, 1000), \n",
    "    'xgbregressor__max_depth': randint(3, 50),\n",
    "    'xgbregressor__eta': uniform(0.01, 0.3)\n",
    "}\n",
    "\n",
    "search = RandomizedSearchCV(\n",
    "    pipeline, \n",
    "    param_distributions=param_distributions, \n",
    "    n_iter=15, \n",
    "    cv=5, \n",
    "    scoring='neg_mean_squared_error', \n",
    "    verbose=10, \n",
    "    return_train_score=True, \n",
    "    n_jobs=-1\n",
    ")\n",
    "\n",
    "search.fit(X_train, y_train);"
   ]
  },
  {
   "cell_type": "code",
   "execution_count": 51,
   "metadata": {},
   "outputs": [
    {
     "name": "stdout",
     "output_type": "stream",
     "text": [
      "Best hyperparameters {'xgbregressor__eta': 0.2826213009198212, 'xgbregressor__max_depth': 7, 'xgbregressor__n_estimators': 515}\n",
      "Cross-validation RMSE 1554.4537275632592\n"
     ]
    }
   ],
   "source": [
    "print('Best hyperparameters', search.best_params_)\n",
    "print('Cross-validation RMSE', np.sqrt(-search.best_score_))"
   ]
  },
  {
   "cell_type": "code",
   "execution_count": 53,
   "metadata": {},
   "outputs": [
    {
     "name": "stdout",
     "output_type": "stream",
     "text": [
      "[18:22:03] WARNING: /workspace/src/objective/regression_obj.cu:152: reg:linear is now deprecated in favor of reg:squarederror.\n",
      "MAE: 636.1796795292753\n",
      "RMSE: 1334.5831947893294\n"
     ]
    }
   ],
   "source": [
    "# Instantiate model\n",
    "rf = XGBRegressor(n_estimators=515,\n",
    "                  max_depth=7,\n",
    "                  eta=0.2826213,\n",
    "                  random_state=42,\n",
    "                  n_jobs=-1)\n",
    "\n",
    "# fit model\n",
    "rf.fit(X_train, y_train)\n",
    "\n",
    "# predict\n",
    "y_pred = rf.predict(X_test)\n",
    "\n",
    "# accuracy\n",
    "print(\"MAE:\", mean_absolute_error(y_test, y_pred))\n",
    "print(\"RMSE:\", rmse(y_test, y_pred))"
   ]
  },
  {
   "cell_type": "code",
   "execution_count": null,
   "metadata": {},
   "outputs": [],
   "source": []
  }
 ],
 "metadata": {
  "kernelspec": {
   "display_name": "Python 3",
   "language": "python",
   "name": "python3"
  },
  "language_info": {
   "codemirror_mode": {
    "name": "ipython",
    "version": 3
   },
   "file_extension": ".py",
   "mimetype": "text/x-python",
   "name": "python",
   "nbconvert_exporter": "python",
   "pygments_lexer": "ipython3",
   "version": "3.7.3"
  }
 },
 "nbformat": 4,
 "nbformat_minor": 2
}
